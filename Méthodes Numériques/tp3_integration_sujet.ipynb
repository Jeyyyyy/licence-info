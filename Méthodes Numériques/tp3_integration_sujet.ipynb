{
 "cells": [
  {
   "cell_type": "markdown",
   "metadata": {},
   "source": [
    "# Intégration numérique"
   ]
  },
  {
   "cell_type": "code",
   "execution_count": 1,
   "metadata": {},
   "outputs": [
    {
     "name": "stdout",
     "output_type": "stream",
     "text": [
      "Using matplotlib backend: TkAgg\n",
      "Populating the interactive namespace from numpy and matplotlib\n"
     ]
    }
   ],
   "source": [
    "%pylab"
   ]
  },
  {
   "cell_type": "markdown",
   "metadata": {},
   "source": [
    "# Programmation des 3 méthodes classiques : point milieu, trapèzes, Simpson"
   ]
  },
  {
   "cell_type": "markdown",
   "metadata": {},
   "source": [
    "Soient $a$ et $b$ deux réels tels que $a < b$ et $f$ une fonction continue sur $[a,b]$.\n",
    "\n",
    "Dans cette section , on cherche à comparer les 3 méthodes classiques d'intégration numérique décrites en cours pour approcher\n",
    "$$\n",
    "I(f,a,b) := \\int_a^b f(x) dx.\n",
    "$$\n",
    "\n",
    "Pour ce faire, on considère une subdivision $a = a_0 < a_1 < ... < a_n = b$ de $[a,b]$ avec \n",
    "$a_i = a+ih$ et $h = \\dfrac{b-a}{n}$."
   ]
  },
  {
   "cell_type": "markdown",
   "metadata": {},
   "source": [
    "## 1 - Méthode du point milieu\n",
    "\n",
    "On rappelle que la formule du point milieu composite pour approcher $I(f,a,b)$ est donnée par\n",
    "$$\n",
    "J_m^c(f,a,b,n) = \\dfrac{b-a}{n} \\sum_{j = 0}^{n-1} f\\left(\\dfrac{a_j+a_{j+1}}{2}\\right).\n",
    "$$"
   ]
  },
  {
   "cell_type": "markdown",
   "metadata": {},
   "source": [
    "Écrire une fonction **mil** qui, pour les entrées $f$ (la fonction à intégrer), $a$, $b$ (les bornes de l'intégrale) et $n$ (le nombre de sous-intervalles), retourne la valeur de $J_m^c(f,a,b,n)$ rappelée ci-dessus.\n",
    "\n",
    "On testera cette fonction pour approcher l'intégrale $\\int_0^1 e^x dx$ dont on connaît la valeur $I_e$."
   ]
  },
  {
   "cell_type": "code",
   "execution_count": 14,
   "metadata": {},
   "outputs": [
    {
     "name": "stdout",
     "output_type": "stream",
     "text": [
      "1.700512716650208\n",
      "1.718281828459045\n"
     ]
    }
   ],
   "source": [
    "def mil(f,a,b,n):\n",
    "    tr = 0\n",
    "    aj = a \n",
    "    for i in range(0, n):\n",
    "        aji = aj + (b-a)/2\n",
    "        tr += f((aj+aji)/2)\n",
    "        aj = aji\n",
    "    return tr*(b-a)/n\n",
    "\n",
    "\n",
    "print(mil(e,0,1,2))\n",
    "\n",
    "\n",
    "Ie = exp(1) - 1\n",
    "print(Ie)"
   ]
  },
  {
   "cell_type": "markdown",
   "metadata": {},
   "source": [
    "Dans cette question, on travaille avec la fonction $f = exp$, $a = 0$ et $b = 1$.\n",
    "\n",
    "Écrire les commandes nécessaires au tracé de l'évolution de l'erreur $$E_m(n) := \\Big|J_m^c(exp,0,1,n)-I_e\\Big|$$ en fonction de $n$. On fera varier $n$ de $1$ à $1000$."
   ]
  },
  {
   "cell_type": "code",
   "execution_count": 15,
   "metadata": {},
   "outputs": [
    {
     "name": "stdout",
     "output_type": "stream",
     "text": [
      "0.017769111808837\n"
     ]
    },
    {
     "ename": "TypeError",
     "evalue": "only integer scalar arrays can be converted to a scalar index",
     "output_type": "error",
     "traceback": [
      "\u001b[0;31m---------------------------------------------------------------------------\u001b[0m",
      "\u001b[0;31mTypeError\u001b[0m                                 Traceback (most recent call last)",
      "\u001b[0;32m<ipython-input-15-d5a2afec94d5>\u001b[0m in \u001b[0;36m<module>\u001b[0;34m\u001b[0m\n\u001b[1;32m      7\u001b[0m \u001b[0;34m\u001b[0m\u001b[0m\n\u001b[1;32m      8\u001b[0m \u001b[0mx\u001b[0m \u001b[0;34m=\u001b[0m \u001b[0mlinspace\u001b[0m\u001b[0;34m(\u001b[0m\u001b[0;36m0\u001b[0m\u001b[0;34m,\u001b[0m\u001b[0;36m1\u001b[0m\u001b[0;34m,\u001b[0m\u001b[0;36m1000\u001b[0m\u001b[0;34m)\u001b[0m\u001b[0;34m\u001b[0m\u001b[0;34m\u001b[0m\u001b[0m\n\u001b[0;32m----> 9\u001b[0;31m \u001b[0my\u001b[0m \u001b[0;34m=\u001b[0m \u001b[0mEm\u001b[0m\u001b[0;34m(\u001b[0m\u001b[0mx\u001b[0m\u001b[0;34m)\u001b[0m\u001b[0;34m\u001b[0m\u001b[0;34m\u001b[0m\u001b[0m\n\u001b[0m\u001b[1;32m     10\u001b[0m \u001b[0mfigure\u001b[0m\u001b[0;34m(\u001b[0m\u001b[0;36m1\u001b[0m\u001b[0;34m)\u001b[0m\u001b[0;34m\u001b[0m\u001b[0;34m\u001b[0m\u001b[0m\n\u001b[1;32m     11\u001b[0m \u001b[0mplot\u001b[0m\u001b[0;34m(\u001b[0m\u001b[0mx\u001b[0m\u001b[0;34m,\u001b[0m\u001b[0my\u001b[0m\u001b[0;34m,\u001b[0m\u001b[0;34m'r-'\u001b[0m\u001b[0;34m)\u001b[0m\u001b[0;34m\u001b[0m\u001b[0;34m\u001b[0m\u001b[0m\n",
      "\u001b[0;32m<ipython-input-15-d5a2afec94d5>\u001b[0m in \u001b[0;36mEm\u001b[0;34m(n)\u001b[0m\n\u001b[1;32m      1\u001b[0m \u001b[0;32mdef\u001b[0m \u001b[0mEm\u001b[0m\u001b[0;34m(\u001b[0m\u001b[0mn\u001b[0m\u001b[0;34m)\u001b[0m\u001b[0;34m:\u001b[0m\u001b[0;34m\u001b[0m\u001b[0;34m\u001b[0m\u001b[0m\n\u001b[0;32m----> 2\u001b[0;31m     \u001b[0mJ\u001b[0m \u001b[0;34m=\u001b[0m \u001b[0mmil\u001b[0m\u001b[0;34m(\u001b[0m\u001b[0me\u001b[0m\u001b[0;34m,\u001b[0m\u001b[0;36m0\u001b[0m\u001b[0;34m,\u001b[0m\u001b[0;36m1\u001b[0m\u001b[0;34m,\u001b[0m\u001b[0mn\u001b[0m\u001b[0;34m)\u001b[0m\u001b[0;34m\u001b[0m\u001b[0;34m\u001b[0m\u001b[0m\n\u001b[0m\u001b[1;32m      3\u001b[0m     \u001b[0;32mreturn\u001b[0m \u001b[0mabs\u001b[0m\u001b[0;34m(\u001b[0m\u001b[0mJ\u001b[0m\u001b[0;34m-\u001b[0m\u001b[0mIe\u001b[0m\u001b[0;34m)\u001b[0m\u001b[0;34m\u001b[0m\u001b[0;34m\u001b[0m\u001b[0m\n\u001b[1;32m      4\u001b[0m \u001b[0;34m\u001b[0m\u001b[0m\n\u001b[1;32m      5\u001b[0m \u001b[0mprint\u001b[0m\u001b[0;34m(\u001b[0m\u001b[0mEm\u001b[0m\u001b[0;34m(\u001b[0m\u001b[0;36m2\u001b[0m\u001b[0;34m)\u001b[0m\u001b[0;34m)\u001b[0m\u001b[0;34m\u001b[0m\u001b[0;34m\u001b[0m\u001b[0m\n",
      "\u001b[0;32m<ipython-input-14-77507a3f5414>\u001b[0m in \u001b[0;36mmil\u001b[0;34m(f, a, b, n)\u001b[0m\n\u001b[1;32m      2\u001b[0m     \u001b[0mtr\u001b[0m \u001b[0;34m=\u001b[0m \u001b[0;36m0\u001b[0m\u001b[0;34m\u001b[0m\u001b[0;34m\u001b[0m\u001b[0m\n\u001b[1;32m      3\u001b[0m     \u001b[0maj\u001b[0m \u001b[0;34m=\u001b[0m \u001b[0ma\u001b[0m\u001b[0;34m\u001b[0m\u001b[0;34m\u001b[0m\u001b[0m\n\u001b[0;32m----> 4\u001b[0;31m     \u001b[0;32mfor\u001b[0m \u001b[0mi\u001b[0m \u001b[0;32min\u001b[0m \u001b[0mrange\u001b[0m\u001b[0;34m(\u001b[0m\u001b[0;36m0\u001b[0m\u001b[0;34m,\u001b[0m \u001b[0mn\u001b[0m\u001b[0;34m)\u001b[0m\u001b[0;34m:\u001b[0m\u001b[0;34m\u001b[0m\u001b[0;34m\u001b[0m\u001b[0m\n\u001b[0m\u001b[1;32m      5\u001b[0m         \u001b[0maji\u001b[0m \u001b[0;34m=\u001b[0m \u001b[0maj\u001b[0m \u001b[0;34m+\u001b[0m \u001b[0;34m(\u001b[0m\u001b[0mb\u001b[0m\u001b[0;34m-\u001b[0m\u001b[0ma\u001b[0m\u001b[0;34m)\u001b[0m\u001b[0;34m/\u001b[0m\u001b[0;36m2\u001b[0m\u001b[0;34m\u001b[0m\u001b[0;34m\u001b[0m\u001b[0m\n\u001b[1;32m      6\u001b[0m         \u001b[0mtr\u001b[0m \u001b[0;34m+=\u001b[0m \u001b[0mf\u001b[0m\u001b[0;34m(\u001b[0m\u001b[0;34m(\u001b[0m\u001b[0maj\u001b[0m\u001b[0;34m+\u001b[0m\u001b[0maji\u001b[0m\u001b[0;34m)\u001b[0m\u001b[0;34m/\u001b[0m\u001b[0;36m2\u001b[0m\u001b[0;34m)\u001b[0m\u001b[0;34m\u001b[0m\u001b[0;34m\u001b[0m\u001b[0m\n",
      "\u001b[0;31mTypeError\u001b[0m: only integer scalar arrays can be converted to a scalar index"
     ]
    }
   ],
   "source": [
    "def Em(n):\n",
    "    J = mil(e,0,1,n)\n",
    "    return abs(J-Ie)\n",
    "\n",
    "print(Em(2))\n",
    "\n",
    "    \n",
    "x = linspace(0,1,1000)\n",
    "y = Em(x)\n",
    "figure(1)\n",
    "plot(x,y,'r-')"
   ]
  },
  {
   "cell_type": "markdown",
   "metadata": {},
   "source": [
    "Reprendre la question précedente et faire le tracé en échelle logarithmique (commande *loglog*)."
   ]
  },
  {
   "cell_type": "code",
   "execution_count": null,
   "metadata": {},
   "outputs": [],
   "source": [
    "def Em(n):\n",
    "    J = mil(e,0,1,n)\n",
    "    return abs(J-(exp(1)-1))\n",
    "print(Em(2))\n",
    "\n",
    "y = 0\n",
    "for i in range (1,1000) :\n",
    "    y = Em(i)\n",
    "\n",
    "n = linspace(0,1)\n",
    "loglog(n, y)\n",
    "axhline(0, color='black')\n",
    "axvline(0, color='black')"
   ]
  },
  {
   "cell_type": "markdown",
   "metadata": {},
   "source": [
    "Quel est le comportement de l'erreur $E_m(n)$ ?\n",
    "\n",
    "Pour répondre à cette question, on pourra utiliser les notions suivantes : \n",
    "\n",
    "+ Si $E(n)$, $C$ et $\\alpha$ sont des quantités positives, on a \n",
    "$$\n",
    "E(n) \\sim \\dfrac{C}{n^\\alpha} \n",
    "\\Longleftrightarrow \n",
    "\\log\\Big(E(n)\\Big) \\sim \\log(C)-\\alpha \\log(n).\n",
    "$$\n",
    "\n",
    "+ En conséquence, si le tracé de $\\log\\Big(E(n)\\Big)$ en fonction de $\\log(n)$ est une droite, la pente de cette dernière donne $-\\alpha$.\n",
    "\n",
    "+ On rappelle que si $E(n) \\sim\\dfrac{C}{n^\\alpha}$, on dit que $E(n)$ est de l'ordre de  $\\dfrac{1}{n^\\alpha}.$"
   ]
  },
  {
   "cell_type": "code",
   "execution_count": null,
   "metadata": {},
   "outputs": [],
   "source": []
  },
  {
   "cell_type": "markdown",
   "metadata": {},
   "source": [
    "## 2 - Méthode des trapèzes\n",
    "\n",
    "On rappelle que la formule des trapèzes composite pour approcher $I(f,a,b)$ est donnée par\n",
    "$$\n",
    "J_t^c(f,a,b,n) = \\dfrac{b-a}{2n} \\left( f(a) + f(b) + 2\\sum_{j = 1}^{n-1} f(a_j) \\right).\n",
    "$$"
   ]
  },
  {
   "cell_type": "markdown",
   "metadata": {},
   "source": [
    "Écrire une fonction **trap** qui, pour les entrées $f$, $a$, $b$ et $n$, retourne la valeur de $J_t^c(f,a,b,n)$ rappelée ci-dessus.\n",
    "\n",
    "On testera cette fonction pour approcher l'intégrale $\\int_0^1 e^x dx$ dont on connaît la valeur $I_e$."
   ]
  },
  {
   "cell_type": "code",
   "execution_count": 5,
   "metadata": {},
   "outputs": [
    {
     "name": "stdout",
     "output_type": "stream",
     "text": [
      "1.550121921467234\n"
     ]
    }
   ],
   "source": [
    "def trap(f,a,b,n):\n",
    "    tr = 0\n",
    "    a1 = (b-a)/n\n",
    "    aj = a1 \n",
    "    for i in range(1, n):\n",
    "        tr += f((aj))\n",
    "    return ((b-a)/(2*n))*(f(a)+f(b)+2*tr)\n",
    "\n",
    "def e(x):\n",
    "    return exp(x)\n",
    "\n",
    "print(trap(e,0,1,3))\n",
    "Ie = trap(e,0,1,3)"
   ]
  },
  {
   "cell_type": "markdown",
   "metadata": {},
   "source": [
    "Dans cette question, on travaille avec la fonction $f = exp$, $a = 0$ et $b = 1$.\n",
    "\n",
    "Écrire les commandes nécessaires au tracé, en échelle logarithmique, de l'évolution de l'erreur $$E_t(n) := \\Big|J_t^c(exp,0,1,n)-I_e\\Big|$$ en fonction de $n$. On fera varier $n$ de $1$ à $1000$."
   ]
  },
  {
   "cell_type": "code",
   "execution_count": null,
   "metadata": {},
   "outputs": [],
   "source": [
    "def Et(n):\n",
    "    J = trap(e,0,1,n)\n",
    "    return abs(J-(exp(1)-1))\n",
    "print(Et(3))\n",
    "\n",
    "y = 0\n",
    "for i in range (1,1000) :\n",
    "    y = Et(i)\n",
    "\n",
    "n = linspace(1,1000)\n",
    "plot(n, y)\n",
    "axhline(0, color='black')\n",
    "axvline(0, color='black')"
   ]
  },
  {
   "cell_type": "markdown",
   "metadata": {},
   "source": [
    "Quel est le comportement de l'erreur $E_t(n)$ ?"
   ]
  },
  {
   "cell_type": "code",
   "execution_count": null,
   "metadata": {},
   "outputs": [],
   "source": []
  },
  {
   "cell_type": "markdown",
   "metadata": {},
   "source": [
    "## 3 - Méthode de Simpson\n",
    "\n",
    "On rappelle que la formule de Simpson composite pour approcher $I(f,a,b)$ est donnée par\n",
    "$$\n",
    "\\begin{array}{rcl}\n",
    "J_s^c(f,a,b,n) & = \n",
    "& \\dfrac{b-a}{6n} \\left( f(a) + f(b) + 2\\sum_{j = 1}^{n-1} f(a_j) \n",
    "+ 4 \\sum_{j = 0}^{n-1} f\\left(\\dfrac{a_j+a_{j+1}}{2}\\right)\n",
    "\\right) \n",
    "\\\\\n",
    "& = \n",
    "& \\dfrac{1}{3} J_t^c(f,a,b,n) + \\dfrac{2}{3} J_m^c(f,a,b,n).\n",
    "\\end{array}\n",
    "$$"
   ]
  },
  {
   "cell_type": "markdown",
   "metadata": {},
   "source": [
    "Écrire une fonction **simp** qui, pour les entrées $f$, $a$, $b$ et $n$, retourne la valeur $J_s^c(f,a,b,n)$ rappelée ci-dessus.\n",
    "\n",
    "On testera cette fonction pour approcher l'intégrale $\\int_0^1 e^x dx$ dont on connaît la valeur $I_e$."
   ]
  },
  {
   "cell_type": "code",
   "execution_count": 6,
   "metadata": {},
   "outputs": [
    {
     "name": "stdout",
     "output_type": "stream",
     "text": [
      "1.718318841921747\n"
     ]
    }
   ],
   "source": [
    "def simp(f,a,b,n):\n",
    "    return (1/3)*trap(f,a,b,n) + (2/3)*mil(f,a,b,n)\n",
    "\n",
    "def e(x):\n",
    "    return exp(x)\n",
    "\n",
    "print(simp(e,0,1,2))\n",
    "Ie = simp(e,0,1,2)"
   ]
  },
  {
   "cell_type": "markdown",
   "metadata": {},
   "source": [
    "Dans cette question, on travaille avec la fonction $f = exp$, $a = 0$ et $b = 1$.\n",
    "\n",
    "Écrire les commandes nécessaires au tracé, en échelle logarithmique, de l'évolution de l'erreur $$E_s(n) := \\Big|J_s^c(exp,0,1,n)-I_e\\Big|$$ en fonction de $n$. On fera varier $n$ de $1$ à $1000$."
   ]
  },
  {
   "cell_type": "code",
   "execution_count": null,
   "metadata": {},
   "outputs": [],
   "source": [
    "def Es(n):\n",
    "    J = simp(e,0,1,n)\n",
    "    return abs(J-(exp(1)-1))\n",
    "print(Es(2))\n",
    "\n",
    "y = 0\n",
    "for i in range (1,1000) :\n",
    "    y = Es(i)\n",
    "\n",
    "n = linspace(1,1000)\n",
    "plot(n, y)\n",
    "axhline(0, color='black')\n",
    "axvline(0, color='black')"
   ]
  },
  {
   "cell_type": "markdown",
   "metadata": {},
   "source": [
    "Quel est le comportement de l'erreur $E_s(n)$ ?"
   ]
  },
  {
   "cell_type": "code",
   "execution_count": null,
   "metadata": {},
   "outputs": [],
   "source": []
  },
  {
   "cell_type": "markdown",
   "metadata": {},
   "source": [
    "## 4 - Bilan\n",
    "\n",
    "Tracé sur le même graphe, l'évolution de $E_m(n)$ (en vert), $E_t(n)$ (en noir) et $E_s(n)$ (en rouge) en fonction de $n$, en échelle logarithmique, avec des couleurs différentes et une légende."
   ]
  },
  {
   "cell_type": "code",
   "execution_count": null,
   "metadata": {},
   "outputs": [],
   "source": []
  },
  {
   "cell_type": "markdown",
   "metadata": {},
   "source": [
    "# Calcul d'un signal moyen\n",
    "\n",
    "On suppose qu'on dispose du signal bleu $s$ tracé ci-dessous en fonction du temps $t$. "
   ]
  },
  {
   "cell_type": "code",
   "execution_count": null,
   "metadata": {},
   "outputs": [],
   "source": [
    "n = 2000\n",
    "t_echant = sort(random.uniform(0,10,size=n))\n",
    "mumax = 10\n",
    "mu = random.uniform(0,mumax,size=1)\n",
    "ecarttype = random.uniform(0,mu*0.1,size=1)\n",
    "#s_echant = sin(2*t_echant)+numpy.random.normal(mu,ecarttype,size=n)\n",
    "s_echant = random.normal(mu,ecarttype,size=n)\n",
    "\n",
    "figure(100)\n",
    "plot(t_echant,s_echant)\n",
    "print(\"mu = \",mu)"
   ]
  },
  {
   "cell_type": "markdown",
   "metadata": {},
   "source": [
    "La question est de calculer la valeur moyenne de ce signal au cours du temps, afin d'en avoir une vision résumée, quitte à perdre un peu d'information.\n",
    "\n",
    "Plus précisément, on cherche à tracer en fonction du temps $t$ \n",
    "$$\n",
    "s_{moy}(t) := \\dfrac{1}{t} \\int_{t_0}^t s(u) du.\n",
    "$$\n",
    "\n",
    "Comme l'expression analytique du signal bleu $s$ n'est pas connue, on doit approcher l'intégrale à l'aide des valeurs dont on dispose dans les tableaux $t_{echant}$ et $s_{echant}$."
   ]
  },
  {
   "cell_type": "markdown",
   "metadata": {},
   "source": [
    "Tracer sur le même graphe \n",
    "+ le signal $s$ en bleu,\n",
    "+ et sa valeur moyenne calculée par la méthode des trapèzes en rouge."
   ]
  },
  {
   "cell_type": "code",
   "execution_count": null,
   "metadata": {},
   "outputs": [],
   "source": []
  },
  {
   "cell_type": "markdown",
   "metadata": {},
   "source": [
    "# Approximation de l'aire d'une surface"
   ]
  },
  {
   "cell_type": "markdown",
   "metadata": {},
   "source": [
    "Effectuer, puis analyser le code suivant pour comprendre ce qu'il fait."
   ]
  },
  {
   "cell_type": "code",
   "execution_count": null,
   "metadata": {},
   "outputs": [],
   "source": [
    "def echant(numfig,n):\n",
    "    x = linspace(-1,1);\n",
    "    y = 1+x**2;\n",
    "    figure(numfig)\n",
    "    plot(x,y);\n",
    "    plot(x,-y);\n",
    "    x = linspace(1,3+2*sqrt(2));\n",
    "    y = 4-(x-3)**2/2;\n",
    "    plot(x,y);\n",
    "    plot(x,-y);\n",
    "    \n",
    "    print(\"\\n\\n\\nCliquer sur la partie haute de la figure pour représenter la frontière avec \" + repr(n) + \" points\\n\\n\\n\")\n",
    "    pts = array(ginput(n))\n",
    "    xx = pts[:,0]\n",
    "    yy = pts[:,1]\n",
    "    plot(xx,yy,'ok')\n",
    "    i = argsort(xx)    \n",
    "    return xx[i],yy[i]\n",
    "\n",
    "xx,yy = echant(1000,10)\n",
    "print(\"xx = \",xx)\n",
    "print(\"yy = \",yy)"
   ]
  },
  {
   "cell_type": "markdown",
   "metadata": {},
   "source": [
    "En utilisant la fonction echant ci-dessus, créer une fonction **airet** qui, \n",
    "+ calcule l'aire approchée $J_n$ du poisson en utilisant les $n$ points échantillonés et la formule des trapèzes composite \n",
    "+ et retourne l'erreur relative (en pourcentage) entre l'aire exacte et $J_n$.\n",
    "\n",
    "On admettra que l'aire du poisson vaut $I = \\dfrac{8}{3} (7+4\\sqrt{2})$.\n",
    "\n",
    "Faire varier le nombre de points échantillonnés sur la courbe et observer l'évolution de l'erreur."
   ]
  },
  {
   "cell_type": "code",
   "execution_count": null,
   "metadata": {},
   "outputs": [],
   "source": []
  },
  {
   "cell_type": "code",
   "execution_count": null,
   "metadata": {},
   "outputs": [],
   "source": []
  }
 ],
 "metadata": {
  "kernelspec": {
   "display_name": "Python 3",
   "language": "python",
   "name": "python3"
  },
  "language_info": {
   "codemirror_mode": {
    "name": "ipython",
    "version": 3
   },
   "file_extension": ".py",
   "mimetype": "text/x-python",
   "name": "python",
   "nbconvert_exporter": "python",
   "pygments_lexer": "ipython3",
   "version": "3.7.6"
  }
 },
 "nbformat": 4,
 "nbformat_minor": 1
}
